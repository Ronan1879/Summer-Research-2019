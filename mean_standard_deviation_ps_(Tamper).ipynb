{
 "cells": [
  {
   "cell_type": "markdown",
   "metadata": {},
   "source": [
    "# Plotting mean and standard deviation of power spectrum over time\n",
    "All cells except for the last one are used to generate a power spectrum. The last cell plots the power spectrums alongside the mean and standard deviation over all time. This can be used to study cosmic variance in simulations of EoR sky or to observe the correlation between the mean and standard deviation of power values at specific times. The user can generate multiple power spectrums and have them all plotted automatically."
   ]
  },
  {
   "cell_type": "code",
   "execution_count": 1,
   "metadata": {},
   "outputs": [],
   "source": [
    "%matplotlib inline\n",
    "from pyuvdata import UVData\n",
    "import hera_pspec as hp\n",
    "import numpy as np\n",
    "import matplotlib.pyplot as plt\n",
    "import copy, os, itertools, inspect\n",
    "from hera_pspec.data import DATA_PATH\n",
    "import scipy\n",
    "import matplotlib.gridspec as gridspec"
   ]
  },
  {
   "cell_type": "code",
   "execution_count": 2,
   "metadata": {},
   "outputs": [
    {
     "name": "stderr",
     "output_type": "stream",
     "text": [
      "Telescope eorsky is not in known_telescopes.\n"
     ]
    }
   ],
   "source": [
    "# select the data file to load\n",
    "dfile_r = os.path.join(DATA_PATH, 'zen.2458116.38650.xx.HH.uvOCRS')\n",
    "dfile_s = os.path.join(DATA_PATH, 'eorsky_3.00hours_Nside128_sigma0.03_fwhm12.13_uv.uvh5')\n",
    "# Load into UVData objects\n",
    "uvd_r = UVData()\n",
    "uvd_s = UVData()\n",
    "\n",
    "uvd_r.read(dfile_r)\n",
    "uvd_s.read(dfile_s)"
   ]
  },
  {
   "cell_type": "code",
   "execution_count": 3,
   "metadata": {},
   "outputs": [
    {
     "ename": "NameError",
     "evalue": "name 'data' is not defined",
     "output_type": "error",
     "traceback": [
      "\u001b[0;31m---------------------------------------------------------------------------\u001b[0m",
      "\u001b[0;31mNameError\u001b[0m                                 Traceback (most recent call last)",
      "\u001b[0;32m<ipython-input-3-88602b3bfde1>\u001b[0m in \u001b[0;36m<module>\u001b[0;34m\u001b[0m\n\u001b[1;32m      5\u001b[0m \u001b[0mplt\u001b[0m\u001b[0;34m.\u001b[0m\u001b[0mfigure\u001b[0m\u001b[0;34m(\u001b[0m\u001b[0mfigsize\u001b[0m\u001b[0;34m=\u001b[0m\u001b[0;34m(\u001b[0m\u001b[0;36m8\u001b[0m\u001b[0;34m,\u001b[0m\u001b[0;36m4\u001b[0m\u001b[0;34m)\u001b[0m\u001b[0;34m)\u001b[0m\u001b[0;34m\u001b[0m\u001b[0;34m\u001b[0m\u001b[0m\n\u001b[1;32m      6\u001b[0m \u001b[0mplt\u001b[0m\u001b[0;34m.\u001b[0m\u001b[0msubplot\u001b[0m\u001b[0;34m(\u001b[0m\u001b[0;36m121\u001b[0m\u001b[0;34m)\u001b[0m\u001b[0;34m\u001b[0m\u001b[0;34m\u001b[0m\u001b[0m\n\u001b[0;32m----> 7\u001b[0;31m plt.imshow(np.abs(data[bl]), aspect='auto', norm=matplotlib.colors.LogNorm(1e0,1e2),\n\u001b[0m\u001b[1;32m      8\u001b[0m           extent=(hd.freqs[0]/1e6, hd.freqs[-1]/1e6, \n\u001b[1;32m      9\u001b[0m                   hd.lsts[-1]*12/np.pi, hd.lsts[0]*12/np.pi))\n",
      "\u001b[0;31mNameError\u001b[0m: name 'data' is not defined"
     ]
    },
    {
     "data": {
      "image/png": "[encoded data removed]",
      "text/plain": [
       "<Figure size 576x288 with 1 Axes>"
      ]
     },
     "metadata": {
      "needs_background": "light"
     },
     "output_type": "display_data"
    }
   ],
   "source": [
    "import matplotlib \n",
    "\n",
    "\n",
    "# Plot absolute value of visibility\n",
    "plt.figure(figsize=(8,4))\n",
    "plt.subplot(121)\n",
    "plt.imshow(np.abs(), aspect='auto', norm=matplotlib.colors.LogNorm(1e0,1e2),\n",
    "          extent=(hd.freqs[0]/1e6, hd.freqs[-1]/1e6, \n",
    "                  hd.lsts[-1]*12/np.pi, hd.lsts[0]*12/np.pi))\n",
    "plt.colorbar(label='Visibility Amplitude (Jy)')\n",
    "plt.xlabel('Frequency (MHz)')\n",
    "plt.ylabel('LST (hours)')\n",
    "plt.title('Amplitude')\n",
    "\n",
    "# Plot phase of visibility\n",
    "plt.subplot(122)\n",
    "plt.imshow(np.angle(data[bl]), aspect='auto',\n",
    "          extent=(hd.freqs[0]/1e6, hd.freqs[-1]/1e6, \n",
    "                  hd.lsts[-1]*12/np.pi, hd.lsts[0]*12/np.pi))\n",
    "plt.colorbar(label='Visibility Phase')\n",
    "plt.xlabel('Frequency (MHz)')\n",
    "plt.ylabel('LST (hours)')\n",
    "plt.title('Phase')\n",
    "\n",
    "plt.tight_layout();"
   ]
  },
  {
   "cell_type": "code",
   "execution_count": null,
   "metadata": {
    "scrolled": false
   },
   "outputs": [],
   "source": [
    "ax[2].hist(v_r.real,bins=30)\n",
    "ax[2].set_ylabel(\"Probability Density\",fontsize=14)\n",
    "ax[2].set_xlabel(\"Visibility Amplitude (Jy)\",fontsize=14)\n",
    "\n",
    "ax[3].hist(v_s.real,bins=30,color='red')\n",
    "ax[3].set_ylabel(\"Probability Density\",fontsize=14)\n",
    "ax[3].set_xlabel(\"Visibility Amplitude (Jy)\",fontsize=14)\n",
    "\n",
    "ax[4].plot(fft_v_r)\n",
    "ax[4].set_xlabel(\"Time Index\",fontsize=14)\n",
    "ax[4].set_ylabel(\"Amplitude\",fontsize=14)\n",
    "\n",
    "ax[5].plot(fft_v_s,color='red')\n",
    "ax[5].set_xlabel(\"Time Index\",fontsize=14)\n",
    "ax[5].set_ylabel(\"Amplitude\",fontsize=14)\n",
    "\n",
    "ax[6].hist(fft_v_r,bins=30)\n",
    "ax[6].set_xlabel(\"Amplitude\",fontsize=14)\n",
    "ax[6].set_ylabel(\"Probability Density\",fontsize=14)\n",
    "\n",
    "ax[7].hist(fft_v_s,bins=30,color='red')\n",
    "ax[7].set_xlabel(\"Amplitude\",fontsize=14)\n",
    "ax[7].set_ylabel(\"Probability Density\",fontsize=14)\n",
    "\n",
    "ax[8].plot(freq_r[xmin_r:xmax_r],v_s[0:102]-v_r,color='blue')\n",
    "ax[8].set_ylabel(\"Residuals v_s-v_r (Jy)\",fontsize=14)\n",
    "ax[8].set_xlabel(\"Frequency (MHz)\",fontsize=14)\n",
    "\n",
    "ax[9].plot(freq_r[xmin_r:xmax_r],fft_v_s[0:102]-fft_v_r,color='green')\n",
    "ax[9].set_ylabel(\"Residuals fft_v_s-fft_v_r (Jy)\",fontsize=14)\n",
    "ax[9].set_xlabel(\"Frequency (MHz)\",fontsize=14)\n",
    "\n",
    "ax[10].hist(v_r-v_s[0:102],bins=30)\n",
    "ax[10].set_xlabel(\"Residuals v_s-v_r (Jy)\",fontsize=14)\n",
    "ax[10].set_ylabel(\"Probability Density\",fontsize=14)\n",
    "\n",
    "ax[11].hist(fft_v_s[0:102]-fft_v_r,color='green')\n",
    "ax[11].set_xlabel(\"Residuals fft_v_s-fft_v_r (Jy)\",fontsize=14)\n",
    "ax[11].set_ylabel(\"Probability Density\",fontsize=14)"
   ]
  },
  {
   "cell_type": "code",
   "execution_count": null,
   "metadata": {},
   "outputs": [],
   "source": [
    "Jy_to_mK = uvb.Jy_to_mK(np.unique(uvd.freq_array), pol='XX')\n",
    "# reshape to appropriately match a UVData.data_array object and multiply in!\n",
    "uvd.data_array *= Jy_to_mK[None, None, :, None]"
   ]
  },
  {
   "cell_type": "code",
   "execution_count": null,
   "metadata": {},
   "outputs": [],
   "source": [
    "# slide the time axis of uvd by one integration\n",
    "uvd1 = uvd.select(times=np.unique(uvd.time_array)[:-1:2], inplace=False)\n",
    "uvd2 = uvd.select(times=np.unique(uvd.time_array)[1::2], inplace=False)\n",
    "\n",
    "# Create a new PSpecData object, and don't forget to feed the beam object\n",
    "ds = hp.PSpecData(dsets=[uvd1, uvd2], wgts=[None, None], beam=uvb)\n",
    "ds.rephase_to_dset(0)\n",
    "ds.dsets[0].vis_units = 'mK'\n",
    "ds.dsets[1].vis_units = 'mK'"
   ]
  },
  {
   "cell_type": "code",
   "execution_count": null,
   "metadata": {},
   "outputs": [],
   "source": [
    "# Specify which baselines to include\n",
    "baselines = [(120,121)]\n",
    "# We can cross multiply different baselines or generate the power spectrum for pairs of identical baselines\n",
    "baselines1, baselines2, blpairs = hp.utils.construct_blpairs(baselines, exclude_auto_bls=True,exclude_permutations=True)\n",
    "uvp = ds.pspec(baselines, baselines, (0, 1), [('xx', 'xx')], spw_ranges=[(400,500),(500,600)], input_data_weight='identity',norm='I', taper='blackman-harris', verbose=True)\n",
    "\n",
    "# This has been commented out but it can be used instead of the previous line\n",
    "#uvp = ds.pspec(baselines1, baselines2, (0, 1), [('pI', 'pI')], spw_ranges=[(100,200)], input_data_weight='identity',norm='I', taper='blackman-harris', verbose=True)"
   ]
  },
  {
   "cell_type": "code",
   "execution_count": null,
   "metadata": {
    "scrolled": false
   },
   "outputs": [],
   "source": [
    "# Initialize pwr array containing power data. This is used to plot the histogram below\n",
    "blpairs = uvp.get_blpairs()\n",
    "# The figure size will depend approximately on the number of spw ranges and blpairs that were generated.\n",
    "fig = plt.figure(constrained_layout=False)\n",
    "fig.set_size_inches(w=18,h=3*len(blpairs)*len(uvp.get_spw_ranges())+2)\n",
    "gs = gridspec.GridSpec(len(blpairs)*len(uvp.get_spw_ranges()),1)\n",
    "gs.update(wspace=0.2, hspace=0.5)\n",
    "\n",
    "# Iterate over all spw ranges and baseline pairs\n",
    "for i in range(0,len(blpairs)):\n",
    "    for j in range(0,len(uvp.get_spw_ranges())):\n",
    "        spw = j\n",
    "        blp =blpairs[i]\n",
    "        key = (spw, blp, 'xx')\n",
    "        dlys = uvp.get_dlys(spw) * 1e9\n",
    "        \n",
    "        power = np.abs(np.real(uvp.get_data(key)))\n",
    "        \n",
    "        # Time array used for mean and std plot\n",
    "        time_array = np.linspace(0,power.T.shape[1],power.T.shape[1])\n",
    "\n",
    "        gss01 = gridspec.GridSpecFromSubplotSpec(1, 2, subplot_spec=gs[j+len(uvp.get_spw_ranges())*i],wspace=0.2)\n",
    "\n",
    "        ax0 = fig.add_subplot(gss01[0])\n",
    "        ax1 = fig.add_subplot(gss01[1])\n",
    "        ax_std = ax1.twinx()\n",
    "        \n",
    "        ax0.plot(dlys, power.T)\n",
    "        ax1.plot(time_array, np.mean(power.T,axis=0),alpha=0.7,color='r',ls='--',lw=3,label=\"Average power\")\n",
    "        ax_std.plot(time_array, np.std(power.T,axis=0),alpha=0.7,color='b',lw=3,label=\"STD\")\n",
    "        \n",
    "        # labels and plotting parameters\n",
    "        ax0.set_yscale('log')\n",
    "        ax0.grid()\n",
    "        ax1.grid()\n",
    "        ax0.set_xlabel(\"delay [ns]\", fontsize=14)\n",
    "        ax0.set_ylabel(r\"$P(k)$\", fontsize=14)\n",
    "        ax1.set_xlabel(\"Time index\", fontsize=14)\n",
    "        ax1.set_ylabel(\"Average \" + r\"$P(k)$\", fontsize=14)\n",
    "        ax_std.set_ylabel(r\"$\\sigma$\", fontsize=14)\n",
    "        ax0.set_title(\"spw : {}, blpair : {}, pol : {}\".format(*key),fontsize=14)\n",
    "        ax1.legend()\n",
    "        ax_std.legend()\n"
   ]
  },
  {
   "cell_type": "code",
   "execution_count": null,
   "metadata": {},
   "outputs": [],
   "source": []
  }
 ],
 "metadata": {
  "kernelspec": {
   "display_name": "Python 3",
   "language": "python",
   "name": "python3"
  },
  "language_info": {
   "codemirror_mode": {
    "name": "ipython",
    "version": 3
   },
   "file_extension": ".py",
   "mimetype": "text/x-python",
   "name": "python",
   "nbconvert_exporter": "python",
   "pygments_lexer": "ipython3",
   "version": "3.7.3"
  }
 },
 "nbformat": 4,
 "nbformat_minor": 2
}
